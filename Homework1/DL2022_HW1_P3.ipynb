{
  "cells": [
    {
      "cell_type": "markdown",
      "metadata": {
        "id": "view-in-github",
        "colab_type": "text"
      },
      "source": [
        "<a href=\"https://colab.research.google.com/github/KiarashVaziri/DeepLearning-Fall2022/blob/main/Homework1/DL2022_HW1_P3.ipynb\" target=\"_parent\"><img src=\"https://colab.research.google.com/assets/colab-badge.svg\" alt=\"Open In Colab\"/></a>"
      ]
    },
    {
      "cell_type": "markdown",
      "metadata": {
        "deletable": false,
        "editable": false,
        "heading_collapsed": true,
        "run_control": {
          "frozen": true
        },
        "id": "0A9w6Tis643w"
      },
      "source": [
        "# Deep Learning"
      ]
    },
    {
      "cell_type": "markdown",
      "metadata": {
        "deletable": false,
        "editable": false,
        "heading_collapsed": true,
        "hidden": true,
        "run_control": {
          "frozen": true
        },
        "id": "48os6q7M6435"
      },
      "source": [
        "## HW1- Problem 3 - Regression (100 pts)"
      ]
    },
    {
      "cell_type": "markdown",
      "metadata": {
        "heading_collapsed": true,
        "hidden": true,
        "id": "o60SEnp66436"
      },
      "source": [
        "### Please fill this part\n",
        "\n",
        "\n",
        "1.   Full Name: Kiarash Vaziri \n",
        "2.   Student Number: 98102562\n",
        "\n",
        "\n",
        "*You are just allowded to change those parts that start with \"TO DO\". Please do not change other parts.*\n",
        "\n",
        "*It is highly recommended to read each codeline carefully and try to understand what it exactly does. Best of luck and have fun!*"
      ]
    },
    {
      "cell_type": "code",
      "execution_count": 4,
      "metadata": {
        "hidden": true,
        "id": "Ilyo1fa_6438"
      },
      "outputs": [],
      "source": [
        "# You are not allowed to import other packages.\n",
        "import numpy as np\n",
        "import pandas as pd\n",
        "\n",
        "from matplotlib import pyplot as plt\n",
        "from sklearn.metrics import mean_squared_error"
      ]
    },
    {
      "cell_type": "markdown",
      "source": [
        "**NOTE** <br>\n",
        "The following cell is to change the directory in a way that suits my preferences."
      ],
      "metadata": {
        "id": "ewMksHS7W8nl"
      }
    },
    {
      "cell_type": "code",
      "source": [
        "from google.colab import drive\n",
        "drive.mount('/content/drive')\n",
        "!pwd\n",
        "%cd /content/drive/MyDrive/Colab\\ Notebooks/Deep\\ Learning/Hw1\n",
        "!pwd"
      ],
      "metadata": {
        "colab": {
          "base_uri": "https://localhost:8080/"
        },
        "id": "Jl0-D_kN9oa5",
        "outputId": "4830a474-ff3e-48f0-b0d4-8d4aad66f872"
      },
      "execution_count": 5,
      "outputs": [
        {
          "output_type": "stream",
          "name": "stdout",
          "text": [
            "Drive already mounted at /content/drive; to attempt to forcibly remount, call drive.mount(\"/content/drive\", force_remount=True).\n",
            "/content/drive/My Drive/Colab Notebooks/Deep Learning/Hw1\n",
            "/content/drive/MyDrive/Colab Notebooks/Deep Learning/Hw1\n",
            "/content/drive/MyDrive/Colab Notebooks/Deep Learning/Hw1\n"
          ]
        }
      ]
    },
    {
      "cell_type": "markdown",
      "metadata": {
        "deletable": false,
        "editable": false,
        "heading_collapsed": true,
        "hidden": true,
        "run_control": {
          "frozen": true
        },
        "id": "sSM7weX5643_"
      },
      "source": [
        "### Part1:\n",
        "Consider the dataset which has been given to you. Split the dataset into the `training dataset` and `test dataset`. You can use `80%` of the data for training and the rest for testing."
      ]
    },
    {
      "cell_type": "code",
      "execution_count": 6,
      "metadata": {
        "hidden": true,
        "id": "e89jeXBI644A"
      },
      "outputs": [],
      "source": [
        "dataset = pd.read_csv(\"data/data01.csv\")\n",
        "\n",
        "# implement the split part\n",
        "# name them: x_train, x_test, y_train, y_test\n",
        "msk = np.random.rand(len(dataset)) < 0.8\n",
        "np.random.shuffle(msk)\n",
        "x_train = dataset['X'][msk]\n",
        "y_train = dataset['Y'][msk]\n",
        "\n",
        "x_test = dataset['X'][~msk]\n",
        "y_test = dataset['Y'][~msk]"
      ]
    },
    {
      "cell_type": "markdown",
      "metadata": {
        "deletable": false,
        "editable": false,
        "heading_collapsed": true,
        "hidden": true,
        "run_control": {
          "frozen": true
        },
        "id": "qMZaqkI0644B"
      },
      "source": [
        "### Part2:\n",
        "Assume there is simple linear relationship between X and Y. Train a simple `Linear Regression` on the training dataset and report its accuracy on the training and testing dataset, separately."
      ]
    },
    {
      "cell_type": "code",
      "execution_count": 7,
      "metadata": {
        "hidden": true,
        "id": "nRSp_5RC644C"
      },
      "outputs": [],
      "source": [
        "# here you can implement via sgd or use least square solution. we suggest the second one inv(A^T A) * A^T y.\n",
        "# consider m as the returned line --> m[0] = the slope , m[1] = y intercept, also don't forget to use numpy for calculating m.\n",
        "X_b = X_b = np.c_[x_train, np.ones((x_train.shape[0], 1))]\n",
        "m = np.linalg.inv(X_b.T.dot(X_b)).dot(X_b.T).dot(y_train)"
      ]
    },
    {
      "cell_type": "code",
      "execution_count": 8,
      "metadata": {
        "hidden": true,
        "id": "4Rth_Hfs644E",
        "colab": {
          "base_uri": "https://localhost:8080/"
        },
        "outputId": "92c1b958-1ca9-4f63-e993-d57881ca0a56"
      },
      "outputs": [
        {
          "output_type": "stream",
          "name": "stdout",
          "text": [
            "MSE train error: 128.46633766135398\n",
            "MSE test error: 36.87830340670982\n"
          ]
        }
      ],
      "source": [
        "predicted_train_y = m[0] * x_train + m[1]\n",
        "predicted_test_y = m[0] * x_test + m[1]\n",
        "\n",
        "train_error = np.sum((y_train-predicted_train_y)**2)\n",
        "test_error = np.sum((y_test-predicted_test_y)**2)\n",
        "\n",
        "print(f\"MSE train error: {train_error}\\nMSE test error: {test_error}\")"
      ]
    },
    {
      "cell_type": "markdown",
      "metadata": {
        "deletable": false,
        "editable": false,
        "heading_collapsed": true,
        "hidden": true,
        "run_control": {
          "frozen": true
        },
        "id": "G_Vv5S-r644F"
      },
      "source": [
        "### Part3:\n",
        "Draw the line you've found in the last part, on train and test points (each separately)."
      ]
    },
    {
      "cell_type": "code",
      "execution_count": 9,
      "metadata": {
        "hidden": true,
        "id": "hSyjvOlf644G",
        "colab": {
          "base_uri": "https://localhost:8080/",
          "height": 299
        },
        "outputId": "eaab9be4-e8a6-446c-ce12-6a8bc611ac89"
      },
      "outputs": [
        {
          "output_type": "execute_result",
          "data": {
            "text/plain": [
              "Text(0.5, 1.0, 'Train dataset')"
            ]
          },
          "metadata": {},
          "execution_count": 9
        },
        {
          "output_type": "display_data",
          "data": {
            "text/plain": [
              "<Figure size 432x288 with 1 Axes>"
            ],
            "image/png": "[encoded data removed]"
          },
          "metadata": {
            "needs_background": "light"
          }
        }
      ],
      "source": [
        "plt.scatter(x_train, y_train)\n",
        "plt.scatter(x_train, m[0]*x_train + m[1], s=1)\n",
        "plt.title(\"Train dataset\")"
      ]
    },
    {
      "cell_type": "code",
      "execution_count": 10,
      "metadata": {
        "hidden": true,
        "id": "fEW3_CQF644H",
        "colab": {
          "base_uri": "https://localhost:8080/",
          "height": 299
        },
        "outputId": "6fb0f41e-3e88-46ef-c69e-a7760b49de0f"
      },
      "outputs": [
        {
          "output_type": "execute_result",
          "data": {
            "text/plain": [
              "Text(0.5, 1.0, 'Test dataset')"
            ]
          },
          "metadata": {},
          "execution_count": 10
        },
        {
          "output_type": "display_data",
          "data": {
            "text/plain": [
              "<Figure size 432x288 with 1 Axes>"
            ],
            "image/png": "[encoded data removed]"
          },
          "metadata": {
            "needs_background": "light"
          }
        }
      ],
      "source": [
        "plt.scatter(x_test, y_test)\n",
        "plt.scatter(x_test, m[0]*x_test + m[1], s=1)\n",
        "plt.title(\"Test dataset\")"
      ]
    },
    {
      "cell_type": "markdown",
      "metadata": {
        "deletable": false,
        "editable": false,
        "heading_collapsed": true,
        "hidden": true,
        "run_control": {
          "frozen": true
        },
        "id": "nWa06pRd644I"
      },
      "source": [
        "### Part4:\n",
        "Were the reported accuracies acceptable? \n",
        "\n",
        "What about the line you drew in the last part? \n",
        "\n",
        "Was it appropriate for the dataset?\n",
        "<br><br/>\n",
        "Explain what are the main problems here. "
      ]
    },
    {
      "cell_type": "markdown",
      "metadata": {
        "hidden": true,
        "id": "SFQ3I6El644J"
      },
      "source": [
        "Yes, the MSE for training and test sets are quite acceptable. Since the data is intrinsically non-linear, a linear model cannot perfectly fit through data."
      ]
    },
    {
      "cell_type": "markdown",
      "metadata": {
        "deletable": false,
        "editable": false,
        "heading_collapsed": true,
        "hidden": true,
        "run_control": {
          "frozen": true
        },
        "id": "n1JZrm3s644J"
      },
      "source": [
        "### Part5:\n",
        "Now, consider the `Locally Weighted Linear Regression` approach for this problem. Do expect it performs better than simple `Linear Regression` for this dataset? Yes"
      ]
    },
    {
      "cell_type": "markdown",
      "metadata": {
        "hidden": true,
        "id": "yazq4Stk644K"
      },
      "source": [
        "Yes because as shown in plots above, we can observe the data is locally linear."
      ]
    },
    {
      "cell_type": "markdown",
      "metadata": {
        "deletable": false,
        "editable": false,
        "heading_collapsed": true,
        "hidden": true,
        "run_control": {
          "frozen": true
        },
        "id": "0FHRxnPk644L"
      },
      "source": [
        "### Part6:\n",
        "Here, we want to implement the `suggested model`. You can implement any weight function you want, the below implementation is just a sample:\n",
        "<br><br/>\n",
        "\\begin{equation*}\n",
        "    w^{(i)}=exp\\left(-\\frac{(\\mathbf x^{(i)}-\\mathbf x)^\\top(\\mathbf x^{(i)}-\\mathbf x)}{2\\tau^2}\\right)\n",
        "\\end{equation*}"
      ]
    },
    {
      "cell_type": "code",
      "execution_count": 11,
      "metadata": {
        "hidden": true,
        "id": "1xmtVe-3644L"
      },
      "outputs": [],
      "source": [
        "def get_weight_matrix(the_query_point, train_dataset, hyperparameter):\n",
        "    l = train_dataset.shape[0]\n",
        "    W = np.mat(np.eye(l))\n",
        "    for i, xi in enumerate(train_dataset):\n",
        "        W[i, i] = np.exp(np.dot((xi-the_query_point), (xi-the_query_point).T)/(-2 * np.square(hyperparameter)))\n",
        "    return W"
      ]
    },
    {
      "cell_type": "markdown",
      "metadata": {
        "deletable": false,
        "editable": false,
        "hidden": true,
        "run_control": {
          "frozen": true
        },
        "id": "A_sOz_6L644M"
      },
      "source": [
        "Now implement the `closed form solution` based on the following formula:\n",
        "<br><br/>\n",
        "\\begin{equation*}\n",
        "    \\boldsymbol\\theta=(X^\\top WX)^{-1}(X^\\top WY)\n",
        "\\end{equation*}\n",
        "<br><br/>\n",
        "Of course if you use another form, implement your own."
      ]
    },
    {
      "cell_type": "code",
      "execution_count": 12,
      "metadata": {
        "hidden": true,
        "id": "TzI_00YO644M"
      },
      "outputs": [],
      "source": [
        "def predict(train_X, train_Y, query_x, hyperparameter):\n",
        "    l = train_X.shape[0]\n",
        "    X = np.hstack((np.array(train_X).reshape((l, 1)), np.ones((l, 1))))\n",
        "    qx = np.array([query_x, 1])\n",
        "    W = get_weight_matrix(qx, X, hyperparameter)\n",
        "    theta = np.linalg.inv(X.T @ W @ X) @ (X.T @ W @ (np.array(train_Y).reshape((l, 1))))\n",
        "    return np.dot(qx, theta)"
      ]
    },
    {
      "cell_type": "markdown",
      "metadata": {
        "deletable": false,
        "editable": false,
        "heading_collapsed": true,
        "hidden": true,
        "run_control": {
          "frozen": true
        },
        "id": "emqM8R_x644N"
      },
      "source": [
        "### Part7:\n",
        "Report accuracy of this model on the test dataset. Also, draw a plot that contains (x_test, y_test) pairs and (x_test, predicted_y) pairs that differ in color."
      ]
    },
    {
      "cell_type": "code",
      "execution_count": 13,
      "metadata": {
        "hidden": true,
        "id": "dX_VswOW644N",
        "colab": {
          "base_uri": "https://localhost:8080/"
        },
        "outputId": "1e31a52d-87ca-4c08-957e-3f2267402393"
      },
      "outputs": [
        {
          "output_type": "stream",
          "name": "stdout",
          "text": [
            "MSE test error: 8.348287799832987\n"
          ]
        }
      ],
      "source": [
        "hyperparameter = 0.05\n",
        "predicted_test = [predict(x_train, y_train, query, hyperparameter) for query in x_test]\n",
        "error = np.sum((np.array(predicted_test).reshape((-1, )) - y_test)**2)\n",
        "print(f\"MSE test error: {error}\")"
      ]
    },
    {
      "cell_type": "code",
      "execution_count": 14,
      "metadata": {
        "hidden": true,
        "id": "BGHZcNyb644O",
        "colab": {
          "base_uri": "https://localhost:8080/",
          "height": 283
        },
        "outputId": "ebb9bdbb-c143-4551-877d-334fbbf8b531"
      },
      "outputs": [
        {
          "output_type": "execute_result",
          "data": {
            "text/plain": [
              "<matplotlib.collections.PathCollection at 0x7fa4cf236e50>"
            ]
          },
          "metadata": {},
          "execution_count": 14
        },
        {
          "output_type": "display_data",
          "data": {
            "text/plain": [
              "<Figure size 432x288 with 1 Axes>"
            ],
            "image/png": "[encoded data removed]"
          },
          "metadata": {
            "needs_background": "light"
          }
        }
      ],
      "source": [
        "plt.scatter(x_test, y_test, c=\"blue\")\n",
        "plt.scatter(x_test, predicted_test, c=\"yellow\")"
      ]
    },
    {
      "cell_type": "markdown",
      "metadata": {
        "deletable": false,
        "editable": false,
        "heading_collapsed": true,
        "hidden": true,
        "run_control": {
          "frozen": true
        },
        "id": "nJojydLL644O"
      },
      "source": [
        "### Part8:\n",
        "Is the performance of the new model better than the previous one? `Explain`."
      ]
    },
    {
      "cell_type": "markdown",
      "metadata": {
        "hidden": true,
        "id": "t0vVacuX644O"
      },
      "source": [
        "Yes! The performance of the much has significantly imporoved since now we are estimating the values section by section. As shown in the figure above, we can say that we have about 4 different sections of linear regression."
      ]
    },
    {
      "cell_type": "markdown",
      "metadata": {
        "deletable": false,
        "editable": false,
        "heading_collapsed": true,
        "hidden": true,
        "run_control": {
          "frozen": true
        },
        "id": "Wemwsonk644P"
      },
      "source": [
        "### Part9:\n",
        "Now, we want to consider the `KNN` approach for this problem; Do you think it will perform well?"
      ]
    },
    {
      "cell_type": "markdown",
      "metadata": {
        "hidden": true,
        "id": "D6qhPDuR644Q"
      },
      "source": [
        "Yes, because as discussed before, data points are locally grouped together. Since the KNN model performs based on the distance of data points, it is expected to perform well."
      ]
    },
    {
      "cell_type": "markdown",
      "metadata": {
        "deletable": false,
        "editable": false,
        "heading_collapsed": true,
        "hidden": true,
        "run_control": {
          "frozen": true
        },
        "id": "vCst7AKZ644Q"
      },
      "source": [
        "### Part10:\n",
        "Implementing the `KNN model`."
      ]
    },
    {
      "cell_type": "code",
      "execution_count": 15,
      "metadata": {
        "hidden": true,
        "id": "1ENlsr0u644R"
      },
      "outputs": [],
      "source": [
        "from scipy.stats import mode\n",
        "\n",
        "class KNN:\n",
        "    def __init__(self, number_neighbours, X, Y):\n",
        "        self.k = number_neighbours\n",
        "        self.X = X\n",
        "        self.Y = Y\n",
        "\n",
        "    def distance(self, x1, x2):\n",
        "        distance = np.sqrt((x1-x2)**2) # implement the distance function\n",
        "        return distance\n",
        "\n",
        "    def return_nn_ids(self, x):\n",
        "        point_dist = []\n",
        "        \n",
        "        for xi in self.X:\n",
        "            distances = self.distance(xi , x) \n",
        "            point_dist.append(distances) \n",
        "        point_dist = np.array(point_dist) \n",
        "        \n",
        "        indices = np.argsort(point_dist)[:k]  \n",
        "        return indices\n",
        "\n",
        "    def predict(self, x):\n",
        "        neareest_indices = self.return_nn_ids(x)\n",
        "        labels = self.Y[neareest_indices]\n",
        "        lab = mode(labels) \n",
        "        predicted_y = lab.mode[0]\n",
        "        return predicted_y"
      ]
    },
    {
      "cell_type": "code",
      "execution_count": 16,
      "metadata": {
        "hidden": true,
        "id": "kXvvZZEV644S"
      },
      "outputs": [],
      "source": [
        "def evaluation(k, x_train, y_train, x_test, y_test):\n",
        "    x_tr = np.array(x_train)\n",
        "    y_tr = np.array(y_train)\n",
        "    model = KNN(k, x_tr, y_tr)\n",
        "    predicted_y = [model.predict(x) for x in x_test]\n",
        "    error = np.sum(np.square(predicted_y - y_test))\n",
        "    return error, predicted_y"
      ]
    },
    {
      "cell_type": "code",
      "execution_count": 17,
      "metadata": {
        "hidden": true,
        "id": "hjTCLsgQ644S",
        "colab": {
          "base_uri": "https://localhost:8080/"
        },
        "outputId": "7f8ade21-e11b-4921-bd98-bb3d40d6a10f"
      },
      "outputs": [
        {
          "output_type": "stream",
          "name": "stdout",
          "text": [
            "MSE error of KNN for test dataset: 16.80460489795269\n"
          ]
        }
      ],
      "source": [
        "k = 3\n",
        "error_knn, predicted_y = evaluation(k, x_train, y_train, x_test, y_test)\n",
        "print(f\"MSE error of KNN for test dataset: {error_knn}\")"
      ]
    },
    {
      "cell_type": "code",
      "execution_count": 18,
      "metadata": {
        "hidden": true,
        "id": "N2zuel1g644S",
        "colab": {
          "base_uri": "https://localhost:8080/",
          "height": 283
        },
        "outputId": "a5a01e47-166e-472b-a673-e1c07bce0667"
      },
      "outputs": [
        {
          "output_type": "execute_result",
          "data": {
            "text/plain": [
              "<matplotlib.collections.PathCollection at 0x7fa4cf1b7fd0>"
            ]
          },
          "metadata": {},
          "execution_count": 18
        },
        {
          "output_type": "display_data",
          "data": {
            "text/plain": [
              "<Figure size 432x288 with 1 Axes>"
            ],
            "image/png": "[encoded data removed]"
          },
          "metadata": {
            "needs_background": "light"
          }
        }
      ],
      "source": [
        "plt.scatter(x_test, y_test, c=\"blue\")\n",
        "plt.scatter(x_test, predicted_y, c=\"yellow\")"
      ]
    },
    {
      "cell_type": "markdown",
      "metadata": {
        "deletable": false,
        "editable": false,
        "hidden": true,
        "run_control": {
          "frozen": true
        },
        "id": "VnWtB6FV644T"
      },
      "source": [
        "To find best K for this algorithm we suggest to use cross-validation.\n",
        "<br><br/>\n",
        "Did this model perform well (due to the plot and test accuracy)?"
      ]
    },
    {
      "cell_type": "markdown",
      "metadata": {
        "hidden": true,
        "id": "7fL0XYRU644T"
      },
      "source": [
        "Yes, the performance of the model, compared to linear regression is much better. Also, the test error is quite reasonable and as observed in the plot, the predicted data points are near the true values. However, compared to locally weighted model, we have a poorer performance since the test error is almost twice as much."
      ]
    }
  ],
  "metadata": {
    "kernelspec": {
      "display_name": "Python 3.7.4 64-bit",
      "language": "python",
      "name": "python3"
    },
    "language_info": {
      "codemirror_mode": {
        "name": "ipython",
        "version": 3
      },
      "file_extension": ".py",
      "mimetype": "text/x-python",
      "name": "python",
      "nbconvert_exporter": "python",
      "pygments_lexer": "ipython3",
      "version": "3.7.4"
    },
    "toc": {
      "base_numbering": 1,
      "nav_menu": {},
      "number_sections": true,
      "sideBar": true,
      "skip_h1_title": false,
      "title_cell": "Table of Contents",
      "title_sidebar": "Contents",
      "toc_cell": false,
      "toc_position": {},
      "toc_section_display": true,
      "toc_window_display": false
    },
    "varInspector": {
      "cols": {
        "lenName": 16,
        "lenType": 16,
        "lenVar": 40
      },
      "kernels_config": {
        "python": {
          "delete_cmd_postfix": "",
          "delete_cmd_prefix": "del ",
          "library": "var_list.py",
          "varRefreshCmd": "print(var_dic_list())"
        },
        "r": {
          "delete_cmd_postfix": ") ",
          "delete_cmd_prefix": "rm(",
          "library": "var_list.r",
          "varRefreshCmd": "cat(var_dic_list()) "
        }
      },
      "types_to_exclude": [
        "module",
        "function",
        "builtin_function_or_method",
        "instance",
        "_Feature"
      ],
      "window_display": false
    },
    "vscode": {
      "interpreter": {
        "hash": "aee8b7b246df8f9039afb4144a1f6fd8d2ca17a180786b69acc140d282b71a49"
      }
    },
    "colab": {
      "provenance": [],
      "collapsed_sections": [],
      "include_colab_link": true
    }
  },
  "nbformat": 4,
  "nbformat_minor": 0
}